{
  "nbformat": 4,
  "nbformat_minor": 0,
  "metadata": {
    "colab": {
      "provenance": []
    },
    "kernelspec": {
      "name": "python3",
      "display_name": "Python 3"
    },
    "language_info": {
      "name": "python"
    }
  },
  "cells": [
    {
      "cell_type": "code",
      "source": [
        "Q.1) What is Object-Oriented Programming(OOP)?"
      ],
      "metadata": {
        "id": "U7nR-TY7CDPg"
      },
      "execution_count": null,
      "outputs": []
    },
    {
      "cell_type": "markdown",
      "source": [
        "==)) Object-oriented programming (OOP) is a way of organizing code around \"objects,\" which are like real-world entities with their own data and actions(methods)."
      ],
      "metadata": {
        "id": "_C1ouCX4Fv7I"
      }
    },
    {
      "cell_type": "code",
      "source": [
        "Q.2) What is a class in OOP?"
      ],
      "metadata": {
        "id": "1jodGZnBCDIR"
      },
      "execution_count": null,
      "outputs": []
    },
    {
      "cell_type": "markdown",
      "source": [
        "==)) A class is a way of organizing information about a type of data so a programmer can reuse elements when making multiple instances of that data type - for example, if a programmer wanted to make three instances of Car, maybe a BMW, a Ferrari, and a Ford instance."
      ],
      "metadata": {
        "id": "qTNM1zfwFwT_"
      }
    },
    {
      "cell_type": "code",
      "source": [
        "Q.3) What is an object in OOP?"
      ],
      "metadata": {
        "id": "yCXx51BRCDEz"
      },
      "execution_count": null,
      "outputs": []
    },
    {
      "cell_type": "markdown",
      "source": [
        "==)) An object is a component of a program that knows how to perform certain actions and how to interact with other elements of the program. Object are the basic units of object-oriented programming. A simple example of an object would be a person."
      ],
      "metadata": {
        "id": "1hV0hF1fFwyM"
      }
    },
    {
      "cell_type": "code",
      "source": [
        "Q.4) What is difference between abstraction and encapsulation?"
      ],
      "metadata": {
        "id": "Q57CnLbICC-R"
      },
      "execution_count": null,
      "outputs": []
    },
    {
      "cell_type": "markdown",
      "source": [
        "==)) Abstraction and Encapsulation are two important concepts in object-oriented programming.\n",
        "Encapsulation focuses on bundling data and methods that operate on that data within a single unit (like a class), and controlling access to that data. Abstraction, on the other hand, focuses on hiding implementation details and exposing only the essential functionalities of an object."
      ],
      "metadata": {
        "id": "CGDw6WbCFxRP"
      }
    },
    {
      "cell_type": "code",
      "source": [
        "Q.5) What are dunder methods in Python?"
      ],
      "metadata": {
        "id": "F9JP1AkNCC68"
      },
      "execution_count": null,
      "outputs": []
    },
    {
      "cell_type": "markdown",
      "source": [
        "==)) Dunder methods are special methods in Python. They start and end with double underscores (hence the name)--  ***like_init_ , _str_ , _len_ , and _getitem_**. They allow your custom objects to behave like built-in types."
      ],
      "metadata": {
        "id": "SuEaZNLhFxtB"
      }
    },
    {
      "cell_type": "code",
      "source": [
        "Q.6) Explain the concept of inheritance in OOP."
      ],
      "metadata": {
        "id": "wW2dTlLLCC3e"
      },
      "execution_count": null,
      "outputs": []
    },
    {
      "cell_type": "markdown",
      "source": [
        "==)) Python is an object-oriented programming language that supports inheritance, including multiple inheritance. It allows programmers to create a new class from the existing class, which enhances code reusability. The method defined in the base class can be reused in the derived class."
      ],
      "metadata": {
        "id": "Y_IS2WjBFyTt"
      }
    },
    {
      "cell_type": "code",
      "source": [
        "Q.7) What is polymorphism in OOP?"
      ],
      "metadata": {
        "id": "f23Kk9NECCux"
      },
      "execution_count": null,
      "outputs": []
    },
    {
      "cell_type": "markdown",
      "source": [
        "==)) In Object-Oriented Programming(OOP), polymorphism means \"many forms\". It describes the ability of an object or reference to take on multiple forms, allowing different objects to behave in different ways when responding to the same message or method call."
      ],
      "metadata": {
        "id": "isXj_QSaFy0p"
      }
    },
    {
      "cell_type": "code",
      "source": [
        "Q.8) How is encapsulation achieved in Python?"
      ],
      "metadata": {
        "id": "jP2i2CnVCCrR"
      },
      "execution_count": null,
      "outputs": []
    },
    {
      "cell_type": "markdown",
      "source": [
        "==)) Encapsulation in Python is achieved by bundling data (attributes) and methods that operate on that data within a single unit called a class. This process helps in hiding the internal implementation details of an object and exposing only a public interface for interaction."
      ],
      "metadata": {
        "id": "4VK9yH3jFzNH"
      }
    },
    {
      "cell_type": "code",
      "source": [
        "Q.9) What is a constructor in Python?"
      ],
      "metadata": {
        "id": "9_MKXU0CDeG3"
      },
      "execution_count": null,
      "outputs": []
    },
    {
      "cell_type": "markdown",
      "source": [
        "==)) In Python, a constructor is a special method called when an object is created. Its purpose is to assign values to the data members within the class when an object is initialized."
      ],
      "metadata": {
        "id": "3BUvxgozFz0-"
      }
    },
    {
      "cell_type": "code",
      "source": [
        "Q.10) What are class and static methods in Python?"
      ],
      "metadata": {
        "id": "Zo8EamGcDeD7"
      },
      "execution_count": null,
      "outputs": []
    },
    {
      "cell_type": "markdown",
      "source": [
        "==)) These are the most common methods in Python classes. Class methods use a cls parameter pointing to the class itself. They can modify class-level state through cls, but they can't modify individual instance state. Static methods don't take self or cls parameters."
      ],
      "metadata": {
        "id": "z5xwTqTOF1n5"
      }
    },
    {
      "cell_type": "code",
      "source": [
        "Q.11) What is method overloading in Python?"
      ],
      "metadata": {
        "id": "oMz8Q_Q_DeBD"
      },
      "execution_count": null,
      "outputs": []
    },
    {
      "cell_type": "markdown",
      "source": [
        "==)) Method overloading in Python provides a way to handle different types or numbers of input using a single method name, making your code more flexible and easier to maintain."
      ],
      "metadata": {
        "id": "N5BI4ejGF2SZ"
      }
    },
    {
      "cell_type": "code",
      "source": [
        "Q.12) What is method overriding in Python?"
      ],
      "metadata": {
        "id": "gquhtDsDDd6L"
      },
      "execution_count": null,
      "outputs": []
    },
    {
      "cell_type": "markdown",
      "source": [
        "==)) Method overriding, a concept in object-oriented programming, allows a subclass to provide a specific implementation of a method that is already defined in its parent class. This enables you to customize the behaviour of the method for the subclass."
      ],
      "metadata": {
        "id": "wM1leAUXF24m"
      }
    },
    {
      "cell_type": "code",
      "source": [
        "Q.13) What is a property decorator in Python?"
      ],
      "metadata": {
        "id": "xERP7UfTDd2m"
      },
      "execution_count": null,
      "outputs": []
    },
    {
      "cell_type": "markdown",
      "source": [
        "==)) The decorator is a built-in Python decorator that allows you to turn class methods into properties in a way that's both elegant and user-friendly."
      ],
      "metadata": {
        "id": "wYIk-zfkF3h_"
      }
    },
    {
      "cell_type": "code",
      "source": [
        "Q.14) Why is polymorphism important in OOP?"
      ],
      "metadata": {
        "id": "XFdymYDID1Ds"
      },
      "execution_count": null,
      "outputs": []
    },
    {
      "cell_type": "markdown",
      "source": [
        "==)) Polymorphism allows us to invoke the overridden method based on the actual type of the object, ensuring the correct implementation is executed.\n",
        "\n",
        "Polymorphism is used in OOP to allow developers to write more efficient code and redefine methods for derived classes."
      ],
      "metadata": {
        "id": "uh7eiNxhF4FA"
      }
    },
    {
      "cell_type": "code",
      "source": [
        "Q.15) What is an abstract class in Python?"
      ],
      "metadata": {
        "id": "XCYevmi1D1A-"
      },
      "execution_count": null,
      "outputs": []
    },
    {
      "cell_type": "markdown",
      "source": [
        "==)) An abstract class is like a template for other classes. It defines methods that must be included in any class that inherits from it, but it doesn't provide the actual code for those methods."
      ],
      "metadata": {
        "id": "jQzsRuUiF4jh"
      }
    },
    {
      "cell_type": "code",
      "source": [
        "Q.16) What are the advantages of OOP?"
      ],
      "metadata": {
        "id": "zl6n_ZwqEOqr"
      },
      "execution_count": null,
      "outputs": []
    },
    {
      "cell_type": "markdown",
      "source": [
        "==)) The main advantages of object-oriented programming(OOP) include improved code organization through encapsulation, reusability via inheritance, flexbility with polymorphism, and simplification of complex systems through abstraction."
      ],
      "metadata": {
        "id": "rpgwZFuaF4-J"
      }
    },
    {
      "cell_type": "code",
      "source": [
        "Q.17) What is the difference between a class variable and an instance variable?"
      ],
      "metadata": {
        "id": "yXtK4x4IEOoQ"
      },
      "execution_count": null,
      "outputs": []
    },
    {
      "cell_type": "markdown",
      "source": [
        "==)) A class is a blueprint or a template that defines the structure and behavior of an object. An instance, on the other hand, is a concrete realization of that blueprint a specific object created from the class."
      ],
      "metadata": {
        "id": "9rRClRIaF5eA"
      }
    },
    {
      "cell_type": "code",
      "source": [
        "Q.18) What is multiple inheritance in Python?"
      ],
      "metadata": {
        "id": "heYz4rXuEOk2"
      },
      "execution_count": null,
      "outputs": []
    },
    {
      "cell_type": "markdown",
      "source": [
        "==)) In Python, multiple inheritance is a feature where a class can inherit attributes and methods from more than one parent class. It allows you to create a class that combines behaviors or attributes from multiple other classes, which can be quite powerful."
      ],
      "metadata": {
        "id": "UAqrewOiF57D"
      }
    },
    {
      "cell_type": "code",
      "source": [
        "Q.19) Explain the purpose of \"_ _str_ _'and' '_ _repr_ _'methods in Python."
      ],
      "metadata": {
        "id": "srsjd0JZEOh6"
      },
      "execution_count": null,
      "outputs": []
    },
    {
      "cell_type": "markdown",
      "source": [
        "==)) In Python, string and representation methods serve distinct purposes related to how objects are displayed as strings.\n",
        "\n",
        "__str__() is designed to provide a human-readable or informal string representation of an object.\n",
        "\n",
        "__repr__() is intended to provide an unambiguous string representation of an object, often used for debugging and development."
      ],
      "metadata": {
        "id": "azTuumbsF6ZG"
      }
    },
    {
      "cell_type": "code",
      "source": [
        "Q.20) What is the significance of the 'super()' function in Python?"
      ],
      "metadata": {
        "id": "BUxbwT0QEOfE"
      },
      "execution_count": null,
      "outputs": []
    },
    {
      "cell_type": "markdown",
      "source": [
        "==)) In Python, super() is a built-in function that allows access to methods and properties of a parent or superclass from a child or subclass. This is useful when working with inheritance in  object-oriented programming."
      ],
      "metadata": {
        "id": "Ief34Sy8F7Ef"
      }
    },
    {
      "cell_type": "code",
      "source": [
        "Q.21) What is the significance of the _ _del_ _ method in Python?"
      ],
      "metadata": {
        "id": "37ghfm90EOcF"
      },
      "execution_count": null,
      "outputs": []
    },
    {
      "cell_type": "markdown",
      "source": [
        "==)) The __del__ method is used to define the actions that should be performed before an object is destroyed.\n",
        "The del keyword is used to delete objects."
      ],
      "metadata": {
        "id": "mcantJg9F7oZ"
      }
    },
    {
      "cell_type": "code",
      "source": [
        "Q.22) What is the difference between @staticmethod and @classmethod in Python?"
      ],
      "metadata": {
        "id": "DUQrGBU7EOZE"
      },
      "execution_count": null,
      "outputs": []
    },
    {
      "cell_type": "markdown",
      "source": [
        "==)) A @class method can access or modify the class state while a @static method can't access or modify it. In general, static methods know nothing about the class state. They are utility-type methods that take some parameters and work upon those parameters. On the other hand class methods must have class as a parameter."
      ],
      "metadata": {
        "id": "D65eWvNoF8Jx"
      }
    },
    {
      "cell_type": "code",
      "source": [
        "Q.23) How does polymorphism work in python with inheritance?"
      ],
      "metadata": {
        "id": "n7vdogfqEOV8"
      },
      "execution_count": null,
      "outputs": []
    },
    {
      "cell_type": "markdown",
      "source": [
        "==)) How Polymorphism Works with Inheritance:\n",
        "\n",
        "a-> Base class: define a base class with a method that provides a generic behavior.\n",
        "\n",
        "b-> Child classes: create child classes that inherit from the base class.\n",
        "\n",
        "c-> Override methods: In each child class, override the method from the base class to provide a specific behavior.\n",
        "\n",
        "d-> Polymorphic Behavior: when calling the method on objects of different child classes, each object will execute its overridden version of the method, demonstrating polymorphism."
      ],
      "metadata": {
        "id": "G0Z0d02yF8tZ"
      }
    },
    {
      "cell_type": "code",
      "source": [
        "Q.24) What is method chaining in Python OOP?"
      ],
      "metadata": {
        "id": "lwBNSykfFdQS"
      },
      "execution_count": null,
      "outputs": []
    },
    {
      "cell_type": "markdown",
      "source": [
        "==)) Method chaining is a common syntax for invoking multiple method calls in object-oriented programming languages."
      ],
      "metadata": {
        "id": "DKxPonBnF9fO"
      }
    },
    {
      "cell_type": "code",
      "source": [
        "Q.25) What is the purpose of the _ _call_ _ method in Python?"
      ],
      "metadata": {
        "id": "Re65EPi9FdNg"
      },
      "execution_count": null,
      "outputs": []
    },
    {
      "cell_type": "markdown",
      "source": [
        "==)) In Python, the __call__ method enables an object of a class to behave like a function. When you define this method within a class, you can then call instances of that class as if they were functions."
      ],
      "metadata": {
        "id": "I3HS36GKF9__"
      }
    },
    {
      "cell_type": "code",
      "source": [
        "***PRACTICAL QUESTIONS**"
      ],
      "metadata": {
        "id": "-H0d2BWI4uxW"
      },
      "execution_count": null,
      "outputs": []
    },
    {
      "cell_type": "code",
      "source": [
        "Q.1) Create a parent class Animal with a method speak() that prints a generic message. Create a child class Dog that overrides the speak() method to print \"Bark!\"."
      ],
      "metadata": {
        "id": "hTtLkVk-4zmK"
      },
      "execution_count": null,
      "outputs": []
    },
    {
      "cell_type": "code",
      "source": [
        "# Parent class\n",
        "class Animal:\n",
        "    def speak(self):\n",
        "        print(\"The animal makes a sound.\")\n",
        "\n",
        "# Child class\n",
        "class Dog(Animal):\n",
        "    def speak(self):\n",
        "        print(\"Bark!\")\n",
        "\n",
        "# Example usage\n",
        "a = Animal()\n",
        "a.speak()"
      ],
      "metadata": {
        "colab": {
          "base_uri": "https://localhost:8080/"
        },
        "id": "M_3YN0m6te7U",
        "outputId": "6aeb5477-e165-4c2e-afce-2d54db39c990"
      },
      "execution_count": 1,
      "outputs": [
        {
          "output_type": "stream",
          "name": "stdout",
          "text": [
            "The animal makes a sound.\n"
          ]
        }
      ]
    },
    {
      "cell_type": "code",
      "source": [
        "Q.2) Write a program to create an abstract class Shape with a method area(). Derive classes Circle and Rectangle from it and implement the area() method in both."
      ],
      "metadata": {
        "id": "FiAsve5M40go"
      },
      "execution_count": null,
      "outputs": []
    },
    {
      "cell_type": "code",
      "source": [
        "Q.3) Implement a multi-level inheritance scenario where a class Vehicle has an attribute type. Derive a class Car and futher derive a class ElectricCar that adds a battery attribute."
      ],
      "metadata": {
        "id": "hP43ayS940eE"
      },
      "execution_count": null,
      "outputs": []
    },
    {
      "cell_type": "code",
      "source": [
        "# Base class\n",
        "class Vehicle:\n",
        "    def __init__(self, vehicle_type):\n",
        "        self.vehicle_type = vehicle_type\n",
        "\n",
        "    def display_info(self):\n",
        "        print(f\"Vehicle Type: {self.vehicle_type}\")\n",
        "\n",
        "# Derived class from Vehicle\n",
        "class Car(Vehicle):\n",
        "    def __init__(self, vehicle_type, brand):\n",
        "        super().__init__(vehicle_type)\n",
        "        self.brand = brand\n",
        "\n",
        "    def display_info(self):\n",
        "        super().display_info()\n",
        "        print(f\"Brand: {self.brand}\")\n",
        "\n",
        "# Derived class from Car\n",
        "class ElectricCar(Car):\n",
        "    def __init__(self, vehicle_type, brand, battery_capacity):\n",
        "        super().__init__(vehicle_type, brand)\n",
        "        self.battery_capacity = battery_capacity  # in kWh\n",
        "\n",
        "    def display_info(self):\n",
        "        super().display_info()\n",
        "        print(f\"Battery Capacity: {self.battery_capacity} kWh\")\n",
        "\n",
        "# Example usage\n",
        "my_electric_car = ElectricCar(\"Car\", \"Tesla\", 75)\n",
        "my_electric_car.display_info()"
      ],
      "metadata": {
        "colab": {
          "base_uri": "https://localhost:8080/"
        },
        "id": "Kfcvmua7u64X",
        "outputId": "ba54301a-c862-47f7-f614-58ec6a4d3694"
      },
      "execution_count": 7,
      "outputs": [
        {
          "output_type": "stream",
          "name": "stdout",
          "text": [
            "Vehicle Type: Car\n",
            "Brand: Tesla\n",
            "Battery Capacity: 75 kWh\n"
          ]
        }
      ]
    },
    {
      "cell_type": "code",
      "source": [
        "Q.4) Demonstrate polymorphism by creating a base class Bird with a method fly(). Create two derived classes Sparrow and Penguin that override the fly() method."
      ],
      "metadata": {
        "id": "gqlENnJw40bM"
      },
      "execution_count": null,
      "outputs": []
    },
    {
      "cell_type": "code",
      "source": [
        "# Base class\n",
        "class Bird:\n",
        "    def fly(self):\n",
        "        print(\"Bird is flying...\")\n",
        "\n",
        "# Derived class: Sparrow\n",
        "class Sparrow(Bird):\n",
        "    def fly(self):\n",
        "        print(\"Sparrow flies high in the sky.\")\n",
        "\n",
        "# Derived class: Penguin\n",
        "class Penguin(Bird):\n",
        "    def fly(self):\n",
        "        print(\"Penguins can't fly, but they swim really well!\")\n",
        "\n",
        "# Function demonstrating polymorphism\n",
        "def bird_flight(bird):\n",
        "    bird.fly()\n",
        "\n",
        "# Example usage\n",
        "birds = [Sparrow(), Penguin()]\n",
        "\n",
        "for b in birds:\n",
        "    bird_flight(b)"
      ],
      "metadata": {
        "colab": {
          "base_uri": "https://localhost:8080/"
        },
        "id": "hKkZ9JxnvKs6",
        "outputId": "4849664d-b692-4c2e-fd16-fba342315e18"
      },
      "execution_count": 8,
      "outputs": [
        {
          "output_type": "stream",
          "name": "stdout",
          "text": [
            "Sparrow flies high in the sky.\n",
            "Penguins can't fly, but they swim really well!\n"
          ]
        }
      ]
    },
    {
      "cell_type": "code",
      "source": [
        "Q.5) Write a program to demonstrate encapsulation by creating a class BankAccount with a private attribute balance and methods to deposits, withdraw, and check balance."
      ],
      "metadata": {
        "id": "46fVJ_5G40YE"
      },
      "execution_count": null,
      "outputs": []
    },
    {
      "cell_type": "code",
      "source": [
        "class BankAccount:\n",
        "    def __init__(self, initial_balance=0):\n",
        "        # Private attribute\n",
        "        self.__balance = initial_balance\n",
        "\n",
        "    def deposit(self, amount):\n",
        "        if amount > 0:\n",
        "            self.__balance += amount\n",
        "            print(f\"Deposited: ${amount}\")\n",
        "        else:\n",
        "            print(\"Deposit amount must be positive.\")\n",
        "\n",
        "    def withdraw(self, amount):\n",
        "        if amount > 0:\n",
        "            if amount <= self.__balance:\n",
        "                self.__balance -= amount\n",
        "                print(f\"Withdrew: ${amount}\")\n",
        "            else:\n",
        "                print(\"Insufficient balance.\")\n",
        "        else:\n",
        "            print(\"Withdrawal amount must be positive.\")\n",
        "\n",
        "    def check_balance(self):\n",
        "        print(f\"Current Balance: ${self.__balance}\")\n",
        "\n",
        "\n",
        "# Example usage:\n",
        "account = BankAccount(100)\n",
        "account.check_balance()\n",
        "account.deposit(50)\n",
        "account.withdraw(30)\n",
        "account.withdraw(150)\n",
        "account.check_balance()"
      ],
      "metadata": {
        "colab": {
          "base_uri": "https://localhost:8080/"
        },
        "id": "uh9XDns6vZwd",
        "outputId": "40d39884-fa83-4771-bd32-006a1bf88c71"
      },
      "execution_count": 9,
      "outputs": [
        {
          "output_type": "stream",
          "name": "stdout",
          "text": [
            "Current Balance: $100\n",
            "Deposited: $50\n",
            "Withdrew: $30\n",
            "Insufficient balance.\n",
            "Current Balance: $120\n"
          ]
        }
      ]
    },
    {
      "cell_type": "code",
      "source": [
        "Q.6) Demonstrate runtime polymorphism using a method play() in a base class instrument. Derive classes Guitar and Piano that implement their own version of play()."
      ],
      "metadata": {
        "id": "CDuVG8Im40U7"
      },
      "execution_count": null,
      "outputs": []
    },
    {
      "cell_type": "code",
      "source": [
        "# Base class\n",
        "class Instrument:\n",
        "    def play(self):\n",
        "        print(\"Playing an instrument\")\n",
        "\n",
        "# Derived class 1\n",
        "class Guitar(Instrument):\n",
        "    def play(self):\n",
        "        print(\"Strumming the guitar\")\n",
        "\n",
        "# Derived class 2\n",
        "class Piano(Instrument):\n",
        "    def play(self):\n",
        "        print(\"Playing the piano\")\n",
        "\n",
        "# Function to demonstrate polymorphism\n",
        "def perform(instrument):\n",
        "    instrument.play()\n",
        "\n",
        "# Example usage\n",
        "instruments = [Guitar(), Piano()]\n",
        "\n",
        "for inst in instruments:\n",
        "    perform(inst)"
      ],
      "metadata": {
        "colab": {
          "base_uri": "https://localhost:8080/"
        },
        "id": "6Dc5DtFlv6t9",
        "outputId": "a1b17a4f-15e3-4ba3-a49f-df718f0fe368"
      },
      "execution_count": 10,
      "outputs": [
        {
          "output_type": "stream",
          "name": "stdout",
          "text": [
            "Strumming the guitar\n",
            "Playing the piano\n"
          ]
        }
      ]
    },
    {
      "cell_type": "code",
      "source": [
        "Q.7) Create a class MathOperations with a class method add_numbers to add two numbers and a static method subtract_numbers() to subtract two numbers."
      ],
      "metadata": {
        "id": "xc8k36xM40SK"
      },
      "execution_count": null,
      "outputs": []
    },
    {
      "cell_type": "code",
      "source": [
        "class MathOperations:\n",
        "    @classmethod\n",
        "    def add_numbers(cls, a, b):\n",
        "        return a + b\n",
        "\n",
        "    @staticmethod\n",
        "    def subtract_numbers(a, b):\n",
        "        return a - b\n",
        "\n",
        "# Example usage:\n",
        "result_add = MathOperations.add_numbers(10, 5)\n",
        "result_subtract = MathOperations.subtract_numbers(10, 5)\n",
        "\n",
        "print(f\"Addition: {result_add}\")\n",
        "print(f\"Subtraction: {result_subtract}\")"
      ],
      "metadata": {
        "colab": {
          "base_uri": "https://localhost:8080/"
        },
        "id": "wk6pvGYEwH-s",
        "outputId": "7bae66a5-9077-4448-844e-286287e0696a"
      },
      "execution_count": 11,
      "outputs": [
        {
          "output_type": "stream",
          "name": "stdout",
          "text": [
            "Addition: 15\n",
            "Subtraction: 5\n"
          ]
        }
      ]
    },
    {
      "cell_type": "code",
      "source": [
        "Q.8) Implement a class Person with a class method to count the total number of persons created."
      ],
      "metadata": {
        "id": "23GY34UQ40PI"
      },
      "execution_count": null,
      "outputs": []
    },
    {
      "cell_type": "code",
      "source": [
        "class Person:\n",
        "    count = 0  # Class variable to store the number of persons\n",
        "\n",
        "    def __init__(self, name):\n",
        "        self.name = name\n",
        "        Person.count += 1\n",
        "\n",
        "    @classmethod\n",
        "    def total_persons(cls):\n",
        "        return cls.count\n",
        "\n",
        "# Example usage:\n",
        "p1 = Person(\"Alice\")\n",
        "p2 = Person(\"Bob\")\n",
        "p3 = Person(\"Charlie\")\n",
        "\n",
        "print(f\"Total persons created: {Person.total_persons()}\")"
      ],
      "metadata": {
        "colab": {
          "base_uri": "https://localhost:8080/"
        },
        "id": "0FRwtgYawX4N",
        "outputId": "c96cfd63-9c1c-494a-ad40-05e4b32e09dc"
      },
      "execution_count": 12,
      "outputs": [
        {
          "output_type": "stream",
          "name": "stdout",
          "text": [
            "Total persons created: 3\n"
          ]
        }
      ]
    },
    {
      "cell_type": "code",
      "source": [
        "Q.9) Write a class Fraction with attributes numerator and denominator. Override the str method to display the fraction as \"numerator/denominator\"."
      ],
      "metadata": {
        "id": "M8Am7wYm40MQ"
      },
      "execution_count": null,
      "outputs": []
    },
    {
      "cell_type": "code",
      "source": [
        "class Fraction:\n",
        "    def __init__(self, numerator, denominator):\n",
        "        if denominator == 0:\n",
        "            raise ValueError(\"Denominator cannot be zero.\")\n",
        "        self.numerator = numerator\n",
        "        self.denominator = denominator\n",
        "\n",
        "    def __str__(self):\n",
        "        return f\"{self.numerator}/{self.denominator}\"\n",
        "\n",
        "# Example usage:\n",
        "f1 = Fraction(3, 4)\n",
        "f2 = Fraction(5, 8)\n",
        "\n",
        "print(f\"Fraction 1: {f1}\")\n",
        "print(f\"Fraction 2: {f2}\")"
      ],
      "metadata": {
        "colab": {
          "base_uri": "https://localhost:8080/"
        },
        "id": "OMWYzAxtwYfT",
        "outputId": "ab559b6d-4fd5-496a-9c3d-c460550bf1f9"
      },
      "execution_count": 13,
      "outputs": [
        {
          "output_type": "stream",
          "name": "stdout",
          "text": [
            "Fraction 1: 3/4\n",
            "Fraction 2: 5/8\n"
          ]
        }
      ]
    },
    {
      "cell_type": "code",
      "source": [
        "Q.10) Demonstrate operator overloading by creating a class Vector and overriding the add method to add two vectors."
      ],
      "metadata": {
        "id": "MAy2rPyI40JY"
      },
      "execution_count": null,
      "outputs": []
    },
    {
      "cell_type": "code",
      "source": [
        "class Vector:\n",
        "    def __init__(self, x, y):\n",
        "        self.x = x\n",
        "        self.y = y\n",
        "\n",
        "    def __add__(self, other):\n",
        "        # Overload the + operator\n",
        "        return Vector(self.x + other.x, self.y + other.y)\n",
        "\n",
        "    def __str__(self):\n",
        "        return f\"Vector({self.x}, {self.y})\"\n",
        "\n",
        "# Example usage:\n",
        "v1 = Vector(2, 3)\n",
        "v2 = Vector(4, 5)\n",
        "\n",
        "v3 = v1 + v2  # Calls v1.__add__(v2)\n",
        "\n",
        "print(f\"v1: {v1}\")\n",
        "print(f\"v2: {v2}\")\n",
        "print(f\"v1 + v2 = {v3}\")"
      ],
      "metadata": {
        "colab": {
          "base_uri": "https://localhost:8080/"
        },
        "id": "eKainU7pwZTM",
        "outputId": "2277432f-ce52-462e-bdc7-529f398de28f"
      },
      "execution_count": 14,
      "outputs": [
        {
          "output_type": "stream",
          "name": "stdout",
          "text": [
            "v1: Vector(2, 3)\n",
            "v2: Vector(4, 5)\n",
            "v1 + v2 = Vector(6, 8)\n"
          ]
        }
      ]
    },
    {
      "cell_type": "code",
      "source": [
        "Q.11) Create a class person with attributes name and age. Add a method greet() that prints \"Hello, my name is {name} and I am {age} years old\"."
      ],
      "metadata": {
        "id": "K11bjriv40GN"
      },
      "execution_count": null,
      "outputs": []
    },
    {
      "cell_type": "code",
      "source": [
        "class Person:\n",
        "    def __init__(self, name, age):\n",
        "        self.name = name\n",
        "        self.age = age\n",
        "\n",
        "    def greet(self):\n",
        "        print(f\"Hello, my name is {self.name} and I am {self.age} years old.\")\n",
        "\n",
        "# Example usage:\n",
        "p1 = Person(\"Alice\", 30)\n",
        "p2 = Person(\"Bob\", 25)\n",
        "\n",
        "p1.greet()\n",
        "p2.greet()"
      ],
      "metadata": {
        "colab": {
          "base_uri": "https://localhost:8080/"
        },
        "id": "QXfbi4edw1wR",
        "outputId": "2a715e73-5dbf-47e8-8bf2-a579accf5680"
      },
      "execution_count": 15,
      "outputs": [
        {
          "output_type": "stream",
          "name": "stdout",
          "text": [
            "Hello, my name is Alice and I am 30 years old.\n",
            "Hello, my name is Bob and I am 25 years old.\n"
          ]
        }
      ]
    },
    {
      "cell_type": "code",
      "source": [
        "Q.12) Implement a class Student with attributes name and grades. Create a method average_grade() to compute the average of the grades."
      ],
      "metadata": {
        "id": "9X5RHKEu0G22"
      },
      "execution_count": null,
      "outputs": []
    },
    {
      "cell_type": "code",
      "source": [
        "class Student:\n",
        "    def __init__(self, name, grades):\n",
        "        self.name = name\n",
        "        self.grades = grades  # Expecting a list of numerical grades\n",
        "\n",
        "    def average_grade(self):\n",
        "        \"\"\"Compute and return the average of the grades.\"\"\"\n",
        "        if not self.grades:\n",
        "            return 0  # Return 0 if grades list is empty\n",
        "        return sum(self.grades) / len(self.grades)\n",
        "\n",
        "# Example usage: Moved outside the class definition\n",
        "student = Student(\"Alice\", [85, 90, 78, 92])\n",
        "print(f\"{student.name}'s average grade: {student.average_grade():.2f}\")"
      ],
      "metadata": {
        "colab": {
          "base_uri": "https://localhost:8080/"
        },
        "id": "8QzsG2eB1Z95",
        "outputId": "698cb2f6-a4be-41ba-eee0-9c8a7289e67c"
      },
      "execution_count": 23,
      "outputs": [
        {
          "output_type": "stream",
          "name": "stdout",
          "text": [
            "Alice's average grade: 86.25\n"
          ]
        }
      ]
    },
    {
      "cell_type": "code",
      "source": [
        "Q.13) Create a class Rectangle with methods set_dimensions() to set the dimensions and area() to calculate the area."
      ],
      "metadata": {
        "id": "67VOoi85nObV"
      },
      "execution_count": null,
      "outputs": []
    },
    {
      "cell_type": "code",
      "source": [
        "class Rectangle:\n",
        "    def __init__(self):\n",
        "        self.length = 0\n",
        "        self.width = 0\n",
        "\n",
        "    def set_dimensions(self, length, width):\n",
        "        \"\"\"Set the dimensions of the rectangle.\"\"\"\n",
        "        self.length = length\n",
        "        self.width = width\n",
        "\n",
        "    def area(self):\n",
        "        \"\"\"Calculate and return the area of the rectangle.\"\"\"\n",
        "        return self.length * self.width\n",
        "\n",
        "# Example usage: Moved outside the class definition and method\n",
        "rect = Rectangle() # Moved this line outside the method and class\n",
        "rect.set_dimensions(10, 5)\n",
        "print(\"Area of the rectangle:\", rect.area())"
      ],
      "metadata": {
        "colab": {
          "base_uri": "https://localhost:8080/"
        },
        "id": "BHq2pXzc3YLt",
        "outputId": "73bf6b40-1d6b-40e9-e058-16d6c7e81ddd"
      },
      "execution_count": 34,
      "outputs": [
        {
          "output_type": "stream",
          "name": "stdout",
          "text": [
            "Area of the rectangle: 50\n"
          ]
        }
      ]
    },
    {
      "cell_type": "code",
      "source": [
        "Q.14) Create a class Employee with a method calculate_salary() that computes the salary based on hours worked and hourly rate. Create a derived class Manager that adds a bonus to the salary."
      ],
      "metadata": {
        "id": "lXgz9j3inOR-"
      },
      "execution_count": null,
      "outputs": []
    },
    {
      "cell_type": "code",
      "source": [
        "class Employee:\n",
        "    def __init__(self, hours_worked, hourly_rate):\n",
        "        self.hours_worked = hours_worked\n",
        "        self.hourly_rate = hourly_rate\n",
        "\n",
        "    def calculate_salary(self):\n",
        "        \"\"\"Calculate base salary.\"\"\"\n",
        "        return self.hours_worked * self.hourly_rate\n",
        "\n",
        "\n",
        "class Manager(Employee):\n",
        "    def __init__(self, hours_worked, hourly_rate, bonus):\n",
        "        super().__init__(hours_worked, hourly_rate)\n",
        "        self.bonus = bonus\n",
        "\n",
        "    def calculate_salary(self):\n",
        "        \"\"\"Calculate salary with bonus for manager.\"\"\"\n",
        "        base_salary = super().calculate_salary()\n",
        "        return base_salary + self.bonus\n",
        "\n",
        "# Example usage: Moved outside the class definition\n",
        "emp = Employee(40, 20)\n",
        "print(\"Employee Salary:\", emp.calculate_salary())\n",
        "\n",
        "mgr = Manager(40, 20, 200)\n",
        "print(\"Manager Salary:\", mgr.calculate_salary())"
      ],
      "metadata": {
        "colab": {
          "base_uri": "https://localhost:8080/"
        },
        "id": "ceIt9ZYj0Dmb",
        "outputId": "f8971acd-7b94-42e7-b954-2a3fa9f23ec4"
      },
      "execution_count": 20,
      "outputs": [
        {
          "output_type": "stream",
          "name": "stdout",
          "text": [
            "Employee Salary: 800\n",
            "Manager Salary: 1000\n"
          ]
        }
      ]
    },
    {
      "cell_type": "code",
      "source": [
        "Q.15) Create a class Product with attributes name, price, and quantity. Implement a method total_price() that calculates the total price of the product."
      ],
      "metadata": {
        "id": "bpbp3i9m1-Uc"
      },
      "execution_count": null,
      "outputs": []
    },
    {
      "cell_type": "code",
      "source": [
        "class Product:\n",
        "    def __init__(self, name, price, quantity):\n",
        "        self.name = name\n",
        "        self.price = price      # Price per unit\n",
        "        self.quantity = quantity\n",
        "\n",
        "    def total_price(self):\n",
        "        \"\"\"Calculate and return the total price.\"\"\"\n",
        "        return self.price * self.quantity\n",
        "\n",
        "# Example usage: Moved outside the class definition\n",
        "product = Product(\"Laptop\", 1200, 2) # Moved this line outside the method and class\n",
        "print(f\"Total price for {product.name}s: ${product.total_price():.2f}\")"
      ],
      "metadata": {
        "colab": {
          "base_uri": "https://localhost:8080/"
        },
        "id": "ewhTEtlR14EM",
        "outputId": "ea9b443f-4f78-414c-c617-5347ca8c6339"
      },
      "execution_count": 26,
      "outputs": [
        {
          "output_type": "stream",
          "name": "stdout",
          "text": [
            "Total price for Laptops: $2400.00\n"
          ]
        }
      ]
    },
    {
      "cell_type": "code",
      "source": [
        "Q.16) Create a class Animal with an abstract method sound(). Create two derived classes Cow and Sheep that implement the sound() method."
      ],
      "metadata": {
        "id": "q2d4B_fOnOAL"
      },
      "execution_count": null,
      "outputs": []
    },
    {
      "cell_type": "code",
      "source": [
        "from abc import ABC, abstractmethod\n",
        "\n",
        "class Animal(ABC):\n",
        "    @abstractmethod\n",
        "    def sound(self):\n",
        "        \"\"\"Abstract method to be implemented by subclasses.\"\"\"\n",
        "        pass\n",
        "\n",
        "class Cow(Animal):\n",
        "    def sound(self):\n",
        "        return \"Moo\"\n",
        "\n",
        "class Sheep(Animal):\n",
        "    def sound(self):\n",
        "        return \"Baa\"\n",
        "\n",
        "# Example usage: Create instances and call methods\n",
        "cow = Cow()\n",
        "sheep = Sheep()\n",
        "\n",
        "print(\"Cow says:\", cow.sound())\n",
        "print(\"Sheep says:\", sheep.sound())"
      ],
      "metadata": {
        "colab": {
          "base_uri": "https://localhost:8080/"
        },
        "id": "aQCSuf-T2XtH",
        "outputId": "f973943b-46ef-4644-ed8b-ff5ad2d77a11"
      },
      "execution_count": 28,
      "outputs": [
        {
          "output_type": "stream",
          "name": "stdout",
          "text": [
            "Cow says: Moo\n",
            "Sheep says: Baa\n"
          ]
        }
      ]
    },
    {
      "cell_type": "code",
      "source": [
        "Q.17) Create a class Book with attributes title, author, and year_published. Add a method get_book_info() that returns a formatted string with the book's details."
      ],
      "metadata": {
        "id": "dtbYgNUDp2ga"
      },
      "execution_count": null,
      "outputs": []
    },
    {
      "cell_type": "code",
      "source": [
        "class Book:\n",
        "    def __init__(self, title, author, year_published):\n",
        "        self.title = title\n",
        "        self.author = author\n",
        "        self.year_published = year_published\n",
        "\n",
        "    def get_book_info(self):\n",
        "        \"\"\"Return a formatted string with book details.\"\"\"\n",
        "        return f\"'{self.title}' by {self.author} (Published in {self.year_published})\"\n",
        "\n",
        "# Example usage: Moved outside the class definition and method\n",
        "book = Book(\"To Kill a Mockingbird\", \"Harper Lee\", 1960)\n",
        "print(book.get_book_info())"
      ],
      "metadata": {
        "colab": {
          "base_uri": "https://localhost:8080/"
        },
        "id": "mPhR6f_J2n28",
        "outputId": "1a08270d-bee0-4173-97a0-45fd7ac477d8"
      },
      "execution_count": 30,
      "outputs": [
        {
          "output_type": "stream",
          "name": "stdout",
          "text": [
            "'To Kill a Mockingbird' by Harper Lee (Published in 1960)\n"
          ]
        }
      ]
    },
    {
      "cell_type": "code",
      "source": [
        "Q.18) Create a class House with attributes address and price. Create a derived class Mansion that adds an attribute number_of_rooms."
      ],
      "metadata": {
        "id": "kyGEmofop2TT"
      },
      "execution_count": null,
      "outputs": []
    },
    {
      "cell_type": "code",
      "source": [
        "class House:\n",
        "    def __init__(self, address, price):\n",
        "        self.address = address\n",
        "        self.price = price\n",
        "\n",
        "    def get_info(self):\n",
        "        \"\"\"Return house information.\"\"\"\n",
        "        return f\"Address: {self.address}, Price: ${self.price}\"\n",
        "\n",
        "class Mansion(House):\n",
        "    def __init__(self, address, price, number_of_rooms):\n",
        "        super().__init__(address, price)\n",
        "        self.number_of_rooms = number_of_rooms\n",
        "\n",
        "    def get_info(self):\n",
        "        \"\"\"Return mansion information, including number of rooms.\"\"\"\n",
        "        base_info = super().get_info()\n",
        "        return f\"{base_info}, Number of rooms: {self.number_of_rooms}\"\n",
        "\n",
        "# Example usage: Moved outside the method definition\n",
        "mansion = Mansion(\"123 Luxury Lane\", 5000000, 10)\n",
        "print(mansion.get_info())"
      ],
      "metadata": {
        "colab": {
          "base_uri": "https://localhost:8080/"
        },
        "id": "BgyRTK_w29pl",
        "outputId": "4af3ffc9-96db-4727-bdf4-26142be1ad44"
      },
      "execution_count": 32,
      "outputs": [
        {
          "output_type": "stream",
          "name": "stdout",
          "text": [
            "Address: 123 Luxury Lane, Price: $5000000, Number of rooms: 10\n"
          ]
        }
      ]
    }
  ]
}